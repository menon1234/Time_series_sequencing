{
 "cells": [
  {
   "cell_type": "code",
   "execution_count": 3,
   "id": "056a1fc1",
   "metadata": {},
   "outputs": [],
   "source": [
    "import pandas as pd\n",
    "import glob\n",
    "import warnings\n",
    "from sklearn.pipeline import Pipeline"
   ]
  },
  {
   "cell_type": "markdown",
   "id": "ecb0d1f9",
   "metadata": {},
   "source": [
    "### Function for preprocess of the dataframe"
   ]
  },
  {
   "cell_type": "code",
   "execution_count": 4,
   "id": "d77ca2ac",
   "metadata": {},
   "outputs": [],
   "source": [
    "def preprocess_indiv_burner_PTET_no_SULFreq(df):\n",
    "    df_c = df.copy(deep=True)\n",
    "    df_c.columns = df_c.columns+'_'+df_c.iloc[0,:]+ '_'+df_c.iloc[1,:]\n",
    "    #drop the date\n",
    "    SGT750 = df_c.iloc[2:,1:]\n",
    "    #Change the index to sequence\n",
    "    SGT750.index = range(1,SGT750.shape[0]+1)\n",
    "#     check na values\n",
    "    nalist  = [x for x in SGT750.isna().sum() if x>0]\n",
    "    if not(nalist):\n",
    "        print(\"No na values\")\n",
    "    else:\n",
    "    #drop na values\n",
    "        SGT750 = SGT750.dropna()\n",
    "    return(SGT750)"
   ]
  },
  {
   "cell_type": "markdown",
   "id": "4c39034a",
   "metadata": {},
   "source": [
    "### Funtion to filter the columns in the dataframe"
   ]
  },
  {
   "cell_type": "code",
   "execution_count": 5,
   "id": "ab66f407",
   "metadata": {},
   "outputs": [],
   "source": [
    "def modifydata2(SGT750):\n",
    "    datay = SGT750.filter(regex='Flame')\n",
    "    Burner1 = SGT750.loc[:,[datay.columns[0],'MBM10CP005_XE01_Ultra Low Frequency Pulsation_mbar',\n",
    "                            'MBM10CP005_XE02_Low Frequency Pulsation_mbar','MBM10CP005_XE03_Medium Frequency Pulsation_mbar',\n",
    "                            'MBM10CP005_XE04_High Frequency Pulsation_mbar',\n",
    "                            'MBB10FT923_ZE11_T7 Exhaust Temp Average Ring1_°C','MBB10FT923_ZE12_T7 Exhaust Temp Average Ring 2_°C',\n",
    "                            'MBB10FT923_ZE13_T7 Exhaust Temp Average Ring 3_°C','Powerturbine Inlet Temp 1_Avg']]\n",
    "    Burner2 = SGT750.loc[:,[datay.columns.values[1],'MBM10CP010_XE01_Ultra Low Frequency Pulsation_mbar',\n",
    "                            'MBM10CP010_XE02_Low Frequency Pulsation_mbar','MBM10CP010_XE03_Medium Frequency Pulsation_mbar',\n",
    "                            'MBM10CP010_XE04_High Frequency Pulsation_mbar',\n",
    "                            'MBB10FT923_ZE11_T7 Exhaust Temp Average Ring1_°C','MBB10FT923_ZE12_T7 Exhaust Temp Average Ring 2_°C',\n",
    "                            'MBB10FT923_ZE13_T7 Exhaust Temp Average Ring 3_°C','Powerturbine Inlet Temp 2_Avg']]\n",
    "    Burner3 = SGT750.loc[:,[datay.columns.values[2],'MBM10CP015_XE01_Ultra Low Frequency Pulsation_mbar',\n",
    "                            'MBM10CP015_XE02_Low Frequency Pulsation_mbar','MBM10CP015_XE03_Medium Frequency Pulsation_mbar',\n",
    "                            'MBM10CP015_XE04_High Frequency Pulsation_mbar',\n",
    "                            'MBB10FT923_ZE11_T7 Exhaust Temp Average Ring1_°C','MBB10FT923_ZE12_T7 Exhaust Temp Average Ring 2_°C',\n",
    "                            'MBB10FT923_ZE13_T7 Exhaust Temp Average Ring 3_°C','Powerturbine Inlet Temp 3_Avg']]\n",
    "    Burner4 = SGT750.loc[:,[datay.columns.values[3],'MBM10CP020_XE01_Ultra Low Frequency Pulsation_mbar',\n",
    "                            'MBM10CP020_XE02_Low Frequency Pulsation_mbar','MBM10CP020_XE03_Medium Frequency Pulsation_mbar',\n",
    "                            'MBM10CP020_XE04_High Frequency Pulsation_mbar',\n",
    "                            'MBB10FT923_ZE11_T7 Exhaust Temp Average Ring1_°C','MBB10FT923_ZE12_T7 Exhaust Temp Average Ring 2_°C',\n",
    "                            'MBB10FT923_ZE13_T7 Exhaust Temp Average Ring 3_°C','Powerturbine Inlet Temp 4_Avg']]\n",
    "    Burner5 = SGT750.loc[:,[datay.columns.values[4],'MBM10CP025_XE01_Ultra Low Frequency Pulsation_mbar',\n",
    "                            'MBM10CP025_XE02_Low Frequency Pulsation_mbar','MBM10CP025_XE03_Medium Frequency Pulsation_mbar',\n",
    "                            'MBM10CP025_XE04_High Frequency Pulsation_mbar',\n",
    "                            'MBB10FT923_ZE11_T7 Exhaust Temp Average Ring1_°C','MBB10FT923_ZE12_T7 Exhaust Temp Average Ring 2_°C',\n",
    "                            'MBB10FT923_ZE13_T7 Exhaust Temp Average Ring 3_°C','Powerturbine Inlet Temp 5_Avg']]\n",
    "    Burner6 = SGT750.loc[:,[datay.columns.values[5],'MBM10CP030_XE01_Ultra Low Frequency Pulsation_mbar',\n",
    "                            'MBM10CP030_XE02_Low Frequency Pulsation_mbar','MBM10CP030_XE03_Medium Frequency Pulsation_mbar',\n",
    "                            'MBM10CP030_XE04_High Frequency Pulsation_mbar',\n",
    "                            'MBB10FT923_ZE11_T7 Exhaust Temp Average Ring1_°C','MBB10FT923_ZE12_T7 Exhaust Temp Average Ring 2_°C',\n",
    "                            'MBB10FT923_ZE13_T7 Exhaust Temp Average Ring 3_°C','Powerturbine Inlet Temp 6_Avg']]\n",
    "    Burner7 = SGT750.loc[:,[datay.columns.values[6],'MBM10CP035_XE01_Ultra Low Frequency Pulsation_mbar',\n",
    "                            'MBM10CP035_XE02_Low Frequency Pulsation_mbar','MBM10CP035_XE03_Medium Frequency Pulsation_mbar',\n",
    "                            'MBM10CP035_XE04_High Frequency Pulsation_mbar',\n",
    "                            'MBB10FT923_ZE11_T7 Exhaust Temp Average Ring1_°C','MBB10FT923_ZE12_T7 Exhaust Temp Average Ring 2_°C',\n",
    "                            'MBB10FT923_ZE13_T7 Exhaust Temp Average Ring 3_°C','Powerturbine Inlet Temp 7_Avg']]\n",
    "    Burner8 = SGT750.loc[:,[datay.columns.values[7],'MBM10CP040_XE01_Ultra Low Frequency Pulsation_mbar',\n",
    "                            'MBM10CP040_XE02_Low Frequency Pulsation_mbar','MBM10CP040_XE03_Medium Frequency Pulsation_mbar',\n",
    "                            'MBM10CP040_XE04_High Frequency Pulsation_mbar',\n",
    "                            'MBB10FT923_ZE11_T7 Exhaust Temp Average Ring1_°C','MBB10FT923_ZE12_T7 Exhaust Temp Average Ring 2_°C',\n",
    "                            'MBB10FT923_ZE13_T7 Exhaust Temp Average Ring 3_°C','Powerturbine Inlet Temp 8_Avg']]\n",
    "    datalist = [Burner1,Burner2,Burner3,Burner4,Burner5,Burner6,Burner7,Burner8]\n",
    "    dfcols = ['BurnerStatus','UltraLow_Frequency','Low_Frequency','Medium_Frequency','High_Frequency','TempRing1','TempRing2','TempRing3','T_6']\n",
    "    for dc in datalist:\n",
    "        dc.columns = dfcols\n",
    "    return(datalist)"
   ]
  },
  {
   "cell_type": "code",
   "execution_count": 6,
   "id": "34d7fe14",
   "metadata": {},
   "outputs": [],
   "source": [
    "Non_index_list = ['MBB10CT050_XE01_Powerturbine Inlet Temp 1_°C',\n",
    "                                           'MBB10CT050_XE02_Powerturbine Inlet Temp 1_°C',\n",
    "                                           'MBB10CT050_XE03_Powerturbine Inlet Temp 1_°C',\n",
    "                                           'MBB10CT055_XE01_Powerturbine Inlet Temp 2_°C',\n",
    "                                           'MBB10CT055_XE02_Powerturbine Inlet Temp 2_°C',\n",
    "                                           'MBB10CT055_XE03_Powerturbine Inlet Temp 2_°C',\n",
    "                                           'MBB10CT060_XE01_Powerturbine Inlet Temp 3_°C',\n",
    "                                           'MBB10CT060_XE02_Powerturbine Inlet Temp 3_°C',\n",
    "                                           'MBB10CT060_XE03_Powerturbine Inlet Temp 3_°C',\n",
    "                                           'MBB10CT065_XE01_Powerturbine Inlet Temp 4_°C',\n",
    "                                           'MBB10CT065_XE02_Powerturbine Inlet Temp 4_°C',\n",
    "                                           'MBB10CT065_XE03_Powerturbine Inlet Temp 4_°C',\n",
    "                                           'MBB10CT070_XE01_Powerturbine Inlet Temp 5_°C',\n",
    "                                           'MBB10CT070_XE02_Powerturbine Inlet Temp 5_°C',\n",
    "                                           'MBB10CT070_XE03_Powerturbine Inlet Temp 5_°C',\n",
    "                                           'MBB10CT075_XE01_Powerturbine Inlet Temp 6_°C',\n",
    "                                           'MBB10CT075_XE02_Powerturbine Inlet Temp 6_°C',\n",
    "                                           'MBB10CT075_XE03_Powerturbine Inlet Temp 6_°C',\n",
    "                                           'MBB10CT080_XE01_Powerturbine Inlet Temp 7_°C',\n",
    "                                           'MBB10CT080_XE02_Powerturbine Inlet Temp 7_°C',\n",
    "                                           'MBB10CT080_XE03_Powerturbine Inlet Temp 7_°C',\n",
    "                                           'MBB10CT085_XE01_Powerturbine Inlet Temp 8_°C',\n",
    "                                           'MBB10CT085_XE02_Powerturbine Inlet Temp 8_°C',\n",
    "                                           'MBB10CT085_XE03_Powerturbine Inlet Temp 8_°C']"
   ]
  },
  {
   "cell_type": "code",
   "execution_count": 7,
   "id": "b55e98f8",
   "metadata": {},
   "outputs": [],
   "source": [
    "groupby_dict = {\"MBB10CT050_XE01_Powerturbine Inlet Temp 1_°C\":\"Powerturbine Inlet Temp 1_Avg\",\n",
    "#            \"MBB10CT050_XE02_Powerturbine Inlet Temp 1_°C\":\"Powerturbine Inlet Temp 1_Avg\",\n",
    "           \"MBB10CT050_XE03_Powerturbine Inlet Temp 1_°C\":\"Powerturbine Inlet Temp 1_Avg\",\n",
    "                \n",
    "                'MBB10CT055_XE01_Powerturbine Inlet Temp 2_°C':\"Powerturbine Inlet Temp 2_Avg\",\n",
    "            'MBB10CT055_XE02_Powerturbine Inlet Temp 2_°C':\"Powerturbine Inlet Temp 2_Avg\",\n",
    "           'MBB10CT055_XE03_Powerturbine Inlet Temp 2_°C':\"Powerturbine Inlet Temp 2_Avg\",\n",
    "                \n",
    "                \"MBB10CT060_XE01_Powerturbine Inlet Temp 3_°C\":\"Powerturbine Inlet Temp 3_Avg\",\n",
    "           \"MBB10CT060_XE02_Powerturbine Inlet Temp 3_°C\":\"Powerturbine Inlet Temp 3_Avg\",\n",
    "           \"MBB10CT060_XE03_Powerturbine Inlet Temp 3_°C\":\"Powerturbine Inlet Temp 3_Avg\",\n",
    "                \n",
    "                \"MBB10CT065_XE01_Powerturbine Inlet Temp 4_°C\":\"Powerturbine Inlet Temp 4_Avg\",\n",
    "           \"MBB10CT065_XE02_Powerturbine Inlet Temp 4_°C\":\"Powerturbine Inlet Temp 4_Avg\",\n",
    "           \"MBB10CT065_XE03_Powerturbine Inlet Temp 4_°C\":\"Powerturbine Inlet Temp 4_Avg\",\n",
    "                \n",
    "                \"MBB10CT070_XE01_Powerturbine Inlet Temp 5_°C\":\"Powerturbine Inlet Temp 5_Avg\",\n",
    "           \"MBB10CT070_XE02_Powerturbine Inlet Temp 5_°C\":\"Powerturbine Inlet Temp 5_Avg\",\n",
    "           \"MBB10CT070_XE03_Powerturbine Inlet Temp 5_°C\":\"Powerturbine Inlet Temp 5_Avg\",\n",
    "                \n",
    "                \"MBB10CT075_XE01_Powerturbine Inlet Temp 6_°C\":\"Powerturbine Inlet Temp 6_Avg\",\n",
    "           \"MBB10CT075_XE02_Powerturbine Inlet Temp 6_°C\":\"Powerturbine Inlet Temp 6_Avg\",\n",
    "           \"MBB10CT075_XE03_Powerturbine Inlet Temp 6_°C\":\"Powerturbine Inlet Temp 6_Avg\",\n",
    "                \n",
    "                \"MBB10CT080_XE01_Powerturbine Inlet Temp 7_°C\":\"Powerturbine Inlet Temp 7_Avg\",\n",
    "           \"MBB10CT080_XE02_Powerturbine Inlet Temp 7_°C\":\"Powerturbine Inlet Temp 7_Avg\",\n",
    "           \"MBB10CT080_XE03_Powerturbine Inlet Temp 7_°C\":\"Powerturbine Inlet Temp 7_Avg\",\n",
    "                \n",
    "                \"MBB10CT085_XE01_Powerturbine Inlet Temp 8_°C\":\"Powerturbine Inlet Temp 8_Avg\",\n",
    "           \"MBB10CT085_XE02_Powerturbine Inlet Temp 8_°C\":\"Powerturbine Inlet Temp 8_Avg\",\n",
    "           \"MBB10CT085_XE03_Powerturbine Inlet Temp 8_°C\":\"Powerturbine Inlet Temp 8_Avg\"\n",
    "               }\n",
    "# Dataframe1 = Dataframe1.apply(lambda x : pd.to_numeric(x))\n",
    "# Dataframe_dropped_values = Dataframe1.drop(Non_index_list, axis = 1)\n",
    "# T6_average_values = Dataframe1.groupby(groupby_dict,axis = 1).mean()\n",
    "# ModifiedDF = pd.concat([Dataframe_dropped_values, T6_average_values],axis = 1)"
   ]
  },
  {
   "cell_type": "markdown",
   "id": "c86cf9a1",
   "metadata": {},
   "source": [
    "### Upload all files to mylist"
   ]
  },
  {
   "cell_type": "code",
   "execution_count": 8,
   "id": "91cbe1de",
   "metadata": {},
   "outputs": [],
   "source": [
    "mylist = glob.glob(r'C:\\Users\\z004csar\\Thesis_Project\\Flame_monitoring2\\FlameStatusApp\\RawData\\TimeSeriesData\\*.xlsx')"
   ]
  },
  {
   "cell_type": "markdown",
   "id": "c563fc89",
   "metadata": {},
   "source": [
    "### Load the Excel files to a dictionary"
   ]
  },
  {
   "cell_type": "code",
   "execution_count": 26,
   "id": "62af26cb",
   "metadata": {},
   "outputs": [
    {
     "data": {
      "application/vnd.jupyter.widget-view+json": {
       "model_id": "3715eef21dfe44479648f4591adcd317",
       "version_major": 2,
       "version_minor": 0
      },
      "text/plain": [
       "  0%|          | 0/90 [00:00<?, ?it/s]"
      ]
     },
     "metadata": {},
     "output_type": "display_data"
    }
   ],
   "source": [
    "Datadic = {}\n",
    "\n",
    "from tqdm import tqdm,tnrange\n",
    "\n",
    "with warnings.catch_warnings(record=True):\n",
    "    warnings.simplefilter(\"always\")\n",
    "    for i in tnrange(len(mylist)):\n",
    "        Datadic[i] = pd.read_excel(mylist[i],engine=\"openpyxl\")\n",
    "        "
   ]
  },
  {
   "cell_type": "markdown",
   "id": "638f1194",
   "metadata": {},
   "source": [
    "### Preprocess List of Burners to a single Dataframe"
   ]
  },
  {
   "cell_type": "code",
   "execution_count": 32,
   "id": "ea814ac1",
   "metadata": {},
   "outputs": [],
   "source": [
    "import random\n",
    "def preprocessdf(dfdictolist,shufflelist = False):\n",
    "    preprocesseddf1 = {}\n",
    "    ModifiedDF = {}\n",
    "    for i in range(len(Datadic)):\n",
    "        preprocesseddf1[i] = preprocess_indiv_burner_PTET_no_SULFreq(Datadic[i]).apply(lambda x : pd.to_numeric(x))\n",
    "        ModifiedDF[i] = modifydata2(pd.concat([preprocesseddf1[i].drop(Non_index_list, axis = 1),preprocesseddf1[i].groupby(groupby_dict,axis = 1).mean()],axis = 1))\n",
    "    BurnerList  = []\n",
    "    for i,j in ModifiedDF.items():\n",
    "        BurnerList.extend(j) \n",
    "    if shufflelist:\n",
    "        random.shuffle(BurnerList)\n",
    "    ConcatenatedList = pd.concat(BurnerList,axis=0)\n",
    "    return ConcatenatedList\n"
   ]
  },
  {
   "cell_type": "code",
   "execution_count": 35,
   "id": "9844db1f",
   "metadata": {},
   "outputs": [],
   "source": [
    "# import matplotlib.pyplot as plt\n",
    "# fig, ax1 = plt.subplots()\n",
    "# ax2 = ax1.twinx()\n",
    "# ax1.plot(ConcatenatedList.index[1000:2000],ConcatenatedList.iloc[:,8][1000:2000], 'g-')\n",
    "# ax2.plot(ConcatenatedList.index[1000:2000],ConcatenatedList.iloc[:,0][1000:2000], 'b-')"
   ]
  },
  {
   "cell_type": "code",
   "execution_count": 34,
   "id": "03fe5d5f",
   "metadata": {},
   "outputs": [
    {
     "name": "stdout",
     "output_type": "stream",
     "text": [
      "No na values\n",
      "No na values\n",
      "No na values\n",
      "No na values\n",
      "No na values\n",
      "No na values\n",
      "No na values\n",
      "No na values\n",
      "No na values\n",
      "No na values\n",
      "No na values\n",
      "No na values\n",
      "No na values\n",
      "No na values\n",
      "No na values\n",
      "No na values\n",
      "No na values\n",
      "No na values\n",
      "No na values\n",
      "No na values\n",
      "No na values\n",
      "No na values\n",
      "No na values\n",
      "No na values\n",
      "No na values\n",
      "No na values\n",
      "No na values\n",
      "No na values\n",
      "No na values\n",
      "No na values\n",
      "No na values\n",
      "No na values\n",
      "No na values\n",
      "No na values\n",
      "No na values\n",
      "No na values\n",
      "No na values\n",
      "No na values\n",
      "No na values\n",
      "No na values\n",
      "No na values\n",
      "No na values\n",
      "No na values\n",
      "No na values\n",
      "No na values\n",
      "No na values\n",
      "No na values\n",
      "No na values\n",
      "No na values\n",
      "No na values\n",
      "No na values\n",
      "No na values\n",
      "No na values\n",
      "No na values\n",
      "No na values\n",
      "No na values\n",
      "No na values\n",
      "No na values\n",
      "No na values\n",
      "No na values\n",
      "No na values\n",
      "No na values\n",
      "No na values\n",
      "No na values\n",
      "No na values\n",
      "No na values\n",
      "No na values\n",
      "No na values\n",
      "No na values\n"
     ]
    }
   ],
   "source": [
    "Newdf = preprocessdf(Datadic,shufflelist=True)"
   ]
  },
  {
   "cell_type": "code",
   "execution_count": 43,
   "id": "104f53d3",
   "metadata": {},
   "outputs": [
    {
     "data": {
      "text/plain": [
       "[<matplotlib.lines.Line2D at 0x250c50bf490>]"
      ]
     },
     "execution_count": 43,
     "metadata": {},
     "output_type": "execute_result"
    },
    {
     "data": {
      "image/png": "[encoded data removed]",
      "text/plain": [
       "<Figure size 432x288 with 1 Axes>"
      ]
     },
     "metadata": {
      "needs_background": "light"
     },
     "output_type": "display_data"
    }
   ],
   "source": [
    "plt.plot(Newdf[1000:3000]['Medium_Frequency'])"
   ]
  },
  {
   "cell_type": "markdown",
   "id": "056598ce",
   "metadata": {},
   "source": [
    "## AR on medium frequency"
   ]
  },
  {
   "cell_type": "code",
   "execution_count": null,
   "id": "05aa4340",
   "metadata": {},
   "outputs": [],
   "source": []
  }
 ],
 "metadata": {
  "kernelspec": {
   "display_name": "Python 3",
   "language": "python",
   "name": "python3"
  },
  "language_info": {
   "codemirror_mode": {
    "name": "ipython",
    "version": 3
   },
   "file_extension": ".py",
   "mimetype": "text/x-python",
   "name": "python",
   "nbconvert_exporter": "python",
   "pygments_lexer": "ipython3",
   "version": "3.8.8"
  }
 },
 "nbformat": 4,
 "nbformat_minor": 5
}
